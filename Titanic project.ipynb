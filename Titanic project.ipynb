import pandas as pd
import numpy as np
from sklearn.model_selection import train_test_split
from sklearn.preprocessing import StandardScaler
from sklearn.ensemble import RandomForestClassifier
from sklearn.metrics import accuracy_score, classification_report
import seaborn as sns
import matplotlib.pyplot as plt

# Step 1: Data Collection
titanic_data = pd.read_csv('titanic.csv')

# Step 2: Data Preprocessing
# Handling missing values
titanic_data.fillna(method='ffill', inplace=True)  # Filling missing values with the previous value

# Step 2: Data Preprocessing
# Handling missing values
titanic_data.fillna(method='ffill', inplace=True)  # Filling missing values with the previous value

# Step 3: Exploratory Data Analysis (EDA)
# Check correlation between numeric features and target variable
numeric_columns = titanic_data.select_dtypes(include=['number']).columns
plt.figure(figsize=(10, 6))
sns.heatmap(titanic_data[numeric_columns].corr(), annot=True, cmap='coolwarm', fmt=".2f")
plt.title('Correlation Matrix')
plt.show()

# Step 4: Feature Engineering
titanic_data['FamilySize'] = titanic_data['SibSp'] + titanic_data['Parch']

# Display the first few rows to verify the new feature
print(titanic_data[['SibSp', 'Parch', 'FamilySize']].head())

# Step 5: Model Selection and Training
X = titanic_data.drop(['Survived', 'PassengerId', 'Name', 'Ticket', 'Cabin'], axis=1)
y = titanic_data['Survived']

# Splitting the dataset into training and testing sets
X_train, X_test, y_train, y_test = train_test_split(X, y, test_size=0.2, random_state=42)

# Feature scaling
scaler = StandardScaler()
X_train_scaled = scaler.fit_transform(X_train)
X_test_scaled = scaler.transform(X_test)

# Training a Random Forest classifier
rf_classifier = RandomForestClassifier(n_estimators=100, random_state=42)
rf_classifier.fit(X_train_scaled, y_train)

# Step 6: Model Evaluation
y_pred = rf_classifier.predict(X_test_scaled)
accuracy = accuracy_score(y_test, y_pred)
print("Accuracy:", accuracy)
print("Classification Report:\n", classification_report(y_test, y_pred))


# Step 7: Hyperparameter Tuning
from sklearn.model_selection import GridSearchCV

# Define the grid of hyperparameters
param_grid = {
    'n_estimators': [50, 100, 200],
    'max_depth': [None, 10, 20]
}

# Initialize the RandomForestClassifier
rf_classifier = RandomForestClassifier(random_state=42)

# Perform grid search with cross-validation
grid_search = GridSearchCV(rf_classifier, param_grid, cv=5, scoring='accuracy')
grid_search.fit(X_train_scaled, y_train)

# Get the best hyperparameters
best_params = grid_search.best_params_
print("Best Parameters:", best_params)

# Step 8: Prediction
# Using the best parameters obtained from hyperparameter tuning
best_rf_classifier = RandomForestClassifier(**best_params, random_state=42)
best_rf_classifier.fit(X_train_scaled, y_train)

# Predict on the test set
y_pred = best_rf_classifier.predict(X_test_scaled)

# Evaluate the model
accuracy = accuracy_score(y_test, y_pred)
print("Accuracy:", accuracy)
print("Classification Report:\n", classification_report(y_test, y_pred))



